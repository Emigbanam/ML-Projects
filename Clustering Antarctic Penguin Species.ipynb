{
 "cells": [
  {
   "metadata": {},
   "cell_type": "markdown",
   "source": [
    "Clustering Antarctic Penguin Species\n",
    "----\n",
    "You have been asked to support a team of researchers who have been collecting data about penguins in Antartica! The data is available in csv-Format as penguins.csv\n",
    "\n",
    "Origin of this data : Data were collected and made available by Dr. Kristen Gorman and the Palmer Station, Antarctica LTER, a member of the Long Term Ecological Research Network.\n",
    "\n",
    "The dataset consists of 5 columns.\n",
    "\n",
    "Column\tDescription\n",
    "culmen_depth_mm\t-    culmen depth (mm)\n",
    "\n",
    "\n",
    "flipper_length_mm\t-    flipper length (mm)\n",
    "\n",
    "\n",
    "body_mass_g\t  -    body mass (g)\n",
    "\n",
    "\n",
    "sex\tpenguin\t  -    sex\n",
    "\n",
    "\n",
    "\n",
    "Unfortunately, they have not been able to record the species of penguin, but they know that there are at least three species that are native to the region: Adelie, Chinstrap, and Gentoo. Your task is to apply your data science skills to help them identify groups in the dataset!\n"
   ],
   "id": "66bf763c34e97b9a"
  },
  {
   "metadata": {},
   "cell_type": "markdown",
   "source": [
    "-------\n",
    "Perform a cluster analysis based on a reasonable number of clusters and collect the average values for the clusters. The output should be a DataFrame named stat_penguins with one row per cluster that shows the mean of the original variables (or columns in \"penguins.csv\") by cluster. stat_penguins should not include any non-numeric columns."
   ],
   "id": "ef4459c4d9d04e01"
  },
  {
   "cell_type": "code",
   "id": "initial_id",
   "metadata": {
    "collapsed": true,
    "ExecuteTime": {
     "end_time": "2025-07-28T10:05:20.394890Z",
     "start_time": "2025-07-28T10:05:20.389456Z"
    }
   },
   "source": [
    "import numpy as np\n",
    "import pandas as pd\n",
    "import matplotlib.pyplot as plt\n",
    "import warnings\n",
    "warnings.filterwarnings('ignore')"
   ],
   "outputs": [],
   "execution_count": 131
  },
  {
   "metadata": {
    "ExecuteTime": {
     "end_time": "2025-07-28T10:05:20.428940Z",
     "start_time": "2025-07-28T10:05:20.405911Z"
    }
   },
   "cell_type": "code",
   "source": [
    "#Importing The Dataset\n",
    "penguins = pd.read_csv(r\"C:\\Users\\Emigb\\Documents\\Data Science\\datasets\\penguins.csv\")\n",
    "penguins.head()"
   ],
   "id": "ef47167eafc785d9",
   "outputs": [
    {
     "data": {
      "text/plain": [
       "   culmen_length_mm  culmen_depth_mm  flipper_length_mm  body_mass_g     sex\n",
       "0              39.1             18.7                181         3750    MALE\n",
       "1              39.5             17.4                186         3800  FEMALE\n",
       "2              40.3             18.0                195         3250  FEMALE\n",
       "3              36.7             19.3                193         3450  FEMALE\n",
       "4              39.3             20.6                190         3650    MALE"
      ],
      "text/html": [
       "<div>\n",
       "<style scoped>\n",
       "    .dataframe tbody tr th:only-of-type {\n",
       "        vertical-align: middle;\n",
       "    }\n",
       "\n",
       "    .dataframe tbody tr th {\n",
       "        vertical-align: top;\n",
       "    }\n",
       "\n",
       "    .dataframe thead th {\n",
       "        text-align: right;\n",
       "    }\n",
       "</style>\n",
       "<table border=\"1\" class=\"dataframe\">\n",
       "  <thead>\n",
       "    <tr style=\"text-align: right;\">\n",
       "      <th></th>\n",
       "      <th>culmen_length_mm</th>\n",
       "      <th>culmen_depth_mm</th>\n",
       "      <th>flipper_length_mm</th>\n",
       "      <th>body_mass_g</th>\n",
       "      <th>sex</th>\n",
       "    </tr>\n",
       "  </thead>\n",
       "  <tbody>\n",
       "    <tr>\n",
       "      <th>0</th>\n",
       "      <td>39.1</td>\n",
       "      <td>18.7</td>\n",
       "      <td>181</td>\n",
       "      <td>3750</td>\n",
       "      <td>MALE</td>\n",
       "    </tr>\n",
       "    <tr>\n",
       "      <th>1</th>\n",
       "      <td>39.5</td>\n",
       "      <td>17.4</td>\n",
       "      <td>186</td>\n",
       "      <td>3800</td>\n",
       "      <td>FEMALE</td>\n",
       "    </tr>\n",
       "    <tr>\n",
       "      <th>2</th>\n",
       "      <td>40.3</td>\n",
       "      <td>18.0</td>\n",
       "      <td>195</td>\n",
       "      <td>3250</td>\n",
       "      <td>FEMALE</td>\n",
       "    </tr>\n",
       "    <tr>\n",
       "      <th>3</th>\n",
       "      <td>36.7</td>\n",
       "      <td>19.3</td>\n",
       "      <td>193</td>\n",
       "      <td>3450</td>\n",
       "      <td>FEMALE</td>\n",
       "    </tr>\n",
       "    <tr>\n",
       "      <th>4</th>\n",
       "      <td>39.3</td>\n",
       "      <td>20.6</td>\n",
       "      <td>190</td>\n",
       "      <td>3650</td>\n",
       "      <td>MALE</td>\n",
       "    </tr>\n",
       "  </tbody>\n",
       "</table>\n",
       "</div>"
      ]
     },
     "execution_count": 132,
     "metadata": {},
     "output_type": "execute_result"
    }
   ],
   "execution_count": 132
  },
  {
   "metadata": {},
   "cell_type": "markdown",
   "source": [
    "Data Cleaning\n",
    "----"
   ],
   "id": "d15cd1368dfa23e3"
  },
  {
   "metadata": {
    "ExecuteTime": {
     "end_time": "2025-07-28T10:05:20.464856Z",
     "start_time": "2025-07-28T10:05:20.456645Z"
    }
   },
   "cell_type": "code",
   "source": "penguins.shape",
   "id": "2a9ffa36c8baaf82",
   "outputs": [
    {
     "data": {
      "text/plain": [
       "(342, 5)"
      ]
     },
     "execution_count": 133,
     "metadata": {},
     "output_type": "execute_result"
    }
   ],
   "execution_count": 133
  },
  {
   "metadata": {
    "ExecuteTime": {
     "end_time": "2025-07-28T10:05:20.499419Z",
     "start_time": "2025-07-28T10:05:20.491931Z"
    }
   },
   "cell_type": "code",
   "source": [
    "# Check the number of missing values in each column\n",
    "penguins.isna().sum()"
   ],
   "id": "6cef3ad254d9dfa3",
   "outputs": [
    {
     "data": {
      "text/plain": [
       "culmen_length_mm     0\n",
       "culmen_depth_mm      0\n",
       "flipper_length_mm    0\n",
       "body_mass_g          0\n",
       "sex                  7\n",
       "dtype: int64"
      ]
     },
     "execution_count": 134,
     "metadata": {},
     "output_type": "execute_result"
    }
   ],
   "execution_count": 134
  },
  {
   "metadata": {
    "ExecuteTime": {
     "end_time": "2025-07-28T10:05:20.551299Z",
     "start_time": "2025-07-28T10:05:20.534770Z"
    }
   },
   "cell_type": "code",
   "source": [
    "# Drop rows where the 'sex' column has missing values (NaN)\n",
    "penguins.dropna(subset=['sex'], inplace=True)\n",
    "\n",
    "# Check the number of missing values again after dropping rows\n",
    "penguins.isna().sum()"
   ],
   "id": "4a7d14513fd63f99",
   "outputs": [
    {
     "data": {
      "text/plain": [
       "culmen_length_mm     0\n",
       "culmen_depth_mm      0\n",
       "flipper_length_mm    0\n",
       "body_mass_g          0\n",
       "sex                  0\n",
       "dtype: int64"
      ]
     },
     "execution_count": 135,
     "metadata": {},
     "output_type": "execute_result"
    }
   ],
   "execution_count": 135
  },
  {
   "metadata": {
    "ExecuteTime": {
     "end_time": "2025-07-28T10:05:20.570809Z",
     "start_time": "2025-07-28T10:05:20.564179Z"
    }
   },
   "cell_type": "code",
   "source": [
    "# Check the current shape (rows, columns) of the DataFrame\n",
    "penguins.shape"
   ],
   "id": "a604cfcb485bdceb",
   "outputs": [
    {
     "data": {
      "text/plain": [
       "(335, 5)"
      ]
     },
     "execution_count": 136,
     "metadata": {},
     "output_type": "execute_result"
    }
   ],
   "execution_count": 136
  },
  {
   "metadata": {
    "ExecuteTime": {
     "end_time": "2025-07-28T10:05:20.596005Z",
     "start_time": "2025-07-28T10:05:20.590500Z"
    }
   },
   "cell_type": "code",
   "source": [
    "# Print all unique values in the 'sex' column\n",
    "print(penguins['sex'].unique())"
   ],
   "id": "c8622492e8ae8938",
   "outputs": [
    {
     "name": "stdout",
     "output_type": "stream",
     "text": [
      "['MALE' 'FEMALE' '.']\n"
     ]
    }
   ],
   "execution_count": 137
  },
  {
   "metadata": {
    "ExecuteTime": {
     "end_time": "2025-07-28T10:05:20.621687Z",
     "start_time": "2025-07-28T10:05:20.610980Z"
    }
   },
   "cell_type": "code",
   "source": [
    "# Replace any '.' values in 'sex' with NaN\n",
    "penguins['sex'] = penguins['sex'].replace('.', np.nan)\n",
    "\n",
    "# Drop rows where 'sex' is now NaN (after replacing '.')\n",
    "penguins = penguins.dropna(subset=['sex'])\n",
    "\n",
    "# Check the shape of the DataFrame again after cleaning\n",
    "penguins.shape"
   ],
   "id": "dcc6743010c237b9",
   "outputs": [
    {
     "data": {
      "text/plain": [
       "(334, 5)"
      ]
     },
     "execution_count": 138,
     "metadata": {},
     "output_type": "execute_result"
    }
   ],
   "execution_count": 138
  },
  {
   "metadata": {},
   "cell_type": "markdown",
   "source": [
    "Preprocessing\n",
    "-----\n",
    "To prepare the dataset for analysis, start by converting the categorical feature into dummy variables. This process transforms each category into a separate binary column, where values indicate the presence or absence of that category. Once the dummy variables are created, remove the original categorical column to avoid redundancy and ensure the dataset contains only numerical features suitable for modeling."
   ],
   "id": "53074efcae3b968c"
  },
  {
   "metadata": {
    "ExecuteTime": {
     "end_time": "2025-07-28T10:05:20.653482Z",
     "start_time": "2025-07-28T10:05:20.631399Z"
    }
   },
   "cell_type": "code",
   "source": [
    "penguins_dum = pd.get_dummies(penguins, drop_first=True).astype(int)\n",
    "penguins_dum.head()"
   ],
   "id": "283d1158e4f49353",
   "outputs": [
    {
     "data": {
      "text/plain": [
       "   culmen_length_mm  culmen_depth_mm  flipper_length_mm  body_mass_g  sex_MALE\n",
       "0                39               18                181         3750         1\n",
       "1                39               17                186         3800         0\n",
       "2                40               18                195         3250         0\n",
       "3                36               19                193         3450         0\n",
       "4                39               20                190         3650         1"
      ],
      "text/html": [
       "<div>\n",
       "<style scoped>\n",
       "    .dataframe tbody tr th:only-of-type {\n",
       "        vertical-align: middle;\n",
       "    }\n",
       "\n",
       "    .dataframe tbody tr th {\n",
       "        vertical-align: top;\n",
       "    }\n",
       "\n",
       "    .dataframe thead th {\n",
       "        text-align: right;\n",
       "    }\n",
       "</style>\n",
       "<table border=\"1\" class=\"dataframe\">\n",
       "  <thead>\n",
       "    <tr style=\"text-align: right;\">\n",
       "      <th></th>\n",
       "      <th>culmen_length_mm</th>\n",
       "      <th>culmen_depth_mm</th>\n",
       "      <th>flipper_length_mm</th>\n",
       "      <th>body_mass_g</th>\n",
       "      <th>sex_MALE</th>\n",
       "    </tr>\n",
       "  </thead>\n",
       "  <tbody>\n",
       "    <tr>\n",
       "      <th>0</th>\n",
       "      <td>39</td>\n",
       "      <td>18</td>\n",
       "      <td>181</td>\n",
       "      <td>3750</td>\n",
       "      <td>1</td>\n",
       "    </tr>\n",
       "    <tr>\n",
       "      <th>1</th>\n",
       "      <td>39</td>\n",
       "      <td>17</td>\n",
       "      <td>186</td>\n",
       "      <td>3800</td>\n",
       "      <td>0</td>\n",
       "    </tr>\n",
       "    <tr>\n",
       "      <th>2</th>\n",
       "      <td>40</td>\n",
       "      <td>18</td>\n",
       "      <td>195</td>\n",
       "      <td>3250</td>\n",
       "      <td>0</td>\n",
       "    </tr>\n",
       "    <tr>\n",
       "      <th>3</th>\n",
       "      <td>36</td>\n",
       "      <td>19</td>\n",
       "      <td>193</td>\n",
       "      <td>3450</td>\n",
       "      <td>0</td>\n",
       "    </tr>\n",
       "    <tr>\n",
       "      <th>4</th>\n",
       "      <td>39</td>\n",
       "      <td>20</td>\n",
       "      <td>190</td>\n",
       "      <td>3650</td>\n",
       "      <td>1</td>\n",
       "    </tr>\n",
       "  </tbody>\n",
       "</table>\n",
       "</div>"
      ]
     },
     "execution_count": 139,
     "metadata": {},
     "output_type": "execute_result"
    }
   ],
   "execution_count": 139
  },
  {
   "metadata": {},
   "cell_type": "markdown",
   "source": [
    "-----\n",
    "Before applying clustering algorithms, it is important to standardize or scale the data. Features in different units or ranges can distort the clustering results because algorithms like KMeans rely on distance calculations. Standardization rescales the data so that each feature has a mean of zero and a standard deviation of one. This ensures that all features contribute equally to the clustering process, preventing larger-valued features from dominating the distance measurements.\n"
   ],
   "id": "7470fa11dfcb5efe"
  },
  {
   "metadata": {
    "ExecuteTime": {
     "end_time": "2025-07-28T10:05:20.694329Z",
     "start_time": "2025-07-28T10:05:20.675027Z"
    }
   },
   "cell_type": "code",
   "source": [
    "from sklearn.preprocessing import StandardScaler\n",
    "scaler = StandardScaler()\n",
    "X = scaler.fit_transform(penguins_dum)\n",
    "penguins_pp = pd.DataFrame(data=X, columns = penguins_dum.columns)\n",
    "penguins_pp.head()"
   ],
   "id": "31b2cd9cbdfde528",
   "outputs": [
    {
     "data": {
      "text/plain": [
       "   culmen_length_mm  culmen_depth_mm  flipper_length_mm  body_mass_g  sex_MALE\n",
       "0         -0.834119         0.630709          -0.126674    -0.569485  0.988095\n",
       "1         -0.834119         0.127948          -0.107681    -0.507204 -1.012049\n",
       "2         -0.651074         0.630709          -0.073493    -1.192302 -1.012049\n",
       "3         -1.383257         1.133469          -0.081090    -0.943175 -1.012049\n",
       "4         -0.834119         1.636230          -0.092486    -0.694049  0.988095"
      ],
      "text/html": [
       "<div>\n",
       "<style scoped>\n",
       "    .dataframe tbody tr th:only-of-type {\n",
       "        vertical-align: middle;\n",
       "    }\n",
       "\n",
       "    .dataframe tbody tr th {\n",
       "        vertical-align: top;\n",
       "    }\n",
       "\n",
       "    .dataframe thead th {\n",
       "        text-align: right;\n",
       "    }\n",
       "</style>\n",
       "<table border=\"1\" class=\"dataframe\">\n",
       "  <thead>\n",
       "    <tr style=\"text-align: right;\">\n",
       "      <th></th>\n",
       "      <th>culmen_length_mm</th>\n",
       "      <th>culmen_depth_mm</th>\n",
       "      <th>flipper_length_mm</th>\n",
       "      <th>body_mass_g</th>\n",
       "      <th>sex_MALE</th>\n",
       "    </tr>\n",
       "  </thead>\n",
       "  <tbody>\n",
       "    <tr>\n",
       "      <th>0</th>\n",
       "      <td>-0.834119</td>\n",
       "      <td>0.630709</td>\n",
       "      <td>-0.126674</td>\n",
       "      <td>-0.569485</td>\n",
       "      <td>0.988095</td>\n",
       "    </tr>\n",
       "    <tr>\n",
       "      <th>1</th>\n",
       "      <td>-0.834119</td>\n",
       "      <td>0.127948</td>\n",
       "      <td>-0.107681</td>\n",
       "      <td>-0.507204</td>\n",
       "      <td>-1.012049</td>\n",
       "    </tr>\n",
       "    <tr>\n",
       "      <th>2</th>\n",
       "      <td>-0.651074</td>\n",
       "      <td>0.630709</td>\n",
       "      <td>-0.073493</td>\n",
       "      <td>-1.192302</td>\n",
       "      <td>-1.012049</td>\n",
       "    </tr>\n",
       "    <tr>\n",
       "      <th>3</th>\n",
       "      <td>-1.383257</td>\n",
       "      <td>1.133469</td>\n",
       "      <td>-0.081090</td>\n",
       "      <td>-0.943175</td>\n",
       "      <td>-1.012049</td>\n",
       "    </tr>\n",
       "    <tr>\n",
       "      <th>4</th>\n",
       "      <td>-0.834119</td>\n",
       "      <td>1.636230</td>\n",
       "      <td>-0.092486</td>\n",
       "      <td>-0.694049</td>\n",
       "      <td>0.988095</td>\n",
       "    </tr>\n",
       "  </tbody>\n",
       "</table>\n",
       "</div>"
      ]
     },
     "execution_count": 140,
     "metadata": {},
     "output_type": "execute_result"
    }
   ],
   "execution_count": 140
  },
  {
   "metadata": {},
   "cell_type": "markdown",
   "source": [
    "Detect the optimal number of clusters for k-means clustering\n",
    "----\n",
    "To find the optimal number of clusters for k-means clustering, perform an Elbow analysis. Fit KMeans models with different numbers of clusters and calculate the inertia for each model. Plot the number of clusters against the corresponding inertia values. The point where the curve starts to bend or form an “elbow” indicates the ideal number of clusters, as adding more clusters beyond this point provides little improvement in reducing inertia.\n"
   ],
   "id": "66ecce707a89601"
  },
  {
   "metadata": {
    "ExecuteTime": {
     "end_time": "2025-07-28T10:05:20.725419Z",
     "start_time": "2025-07-28T10:05:20.718858Z"
    }
   },
   "cell_type": "code",
   "source": "from sklearn.cluster import KMeans",
   "id": "dda13d2937befcc2",
   "outputs": [],
   "execution_count": 141
  },
  {
   "metadata": {
    "ExecuteTime": {
     "end_time": "2025-07-28T10:05:20.998912Z",
     "start_time": "2025-07-28T10:05:20.741451Z"
    }
   },
   "cell_type": "code",
   "source": [
    "ks = range(1,10)\n",
    "inertia = []\n",
    "\n",
    "for k in ks:\n",
    "    model = KMeans(n_clusters=k, random_state=42).fit(penguins_pp)\n",
    "    inertia.append(model.inertia_)\n",
    "plt.plot(ks, inertia, marker='o')\n",
    "plt.xlabel('Number Of Clusters')\n",
    "plt.ylabel('Inertia')\n",
    "plt.title('Elbow Analysis Plot');"
   ],
   "id": "4a4280015ba9c691",
   "outputs": [
    {
     "data": {
      "text/plain": [
       "<Figure size 640x480 with 1 Axes>"
      ],
      "image/png": "[encoded data removed]"
     },
     "metadata": {},
     "output_type": "display_data"
    }
   ],
   "execution_count": 142
  },
  {
   "metadata": {
    "ExecuteTime": {
     "end_time": "2025-07-28T10:05:21.010205Z",
     "start_time": "2025-07-28T10:05:21.004844Z"
    }
   },
   "cell_type": "code",
   "source": "n_clusters = 4",
   "id": "42a2cca1e0f11d6c",
   "outputs": [],
   "execution_count": 143
  },
  {
   "metadata": {},
   "cell_type": "markdown",
   "source": [
    "Run the k-means clustering algorithm\n",
    "----\n",
    "With the optimal number of clusters determined, apply the k-means clustering algorithm to the preprocessed data. Initialize the KMeans model with the chosen number of clusters and fit it to the dataset. The algorithm will assign each data point to the nearest cluster center, creating distinct groups based on the patterns in the data.\n"
   ],
   "id": "45b05355fe870380"
  },
  {
   "metadata": {
    "ExecuteTime": {
     "end_time": "2025-07-28T10:05:21.138285Z",
     "start_time": "2025-07-28T10:05:21.019662Z"
    }
   },
   "cell_type": "code",
   "source": [
    "kmeans = KMeans(n_clusters = n_clusters).fit(penguins_pp)\n",
    "penguins_pp['label'] = kmeans.labels_\n",
    "plt.scatter(penguins_pp['label'], penguins_pp['culmen_length_mm'], c=kmeans.labels_)\n",
    "plt.xlabel('Labels')\n",
    "plt.ylabel('culmen length (mm)')\n",
    "plt.show()"
   ],
   "id": "5909a576e18f8853",
   "outputs": [
    {
     "data": {
      "text/plain": [
       "<Figure size 640x480 with 1 Axes>"
      ],
      "image/png": "[encoded data removed]"
     },
     "metadata": {},
     "output_type": "display_data"
    }
   ],
   "execution_count": 144
  },
  {
   "metadata": {},
   "cell_type": "markdown",
   "source": [
    "Create a final statistical DataFrame for each cluster.\n",
    "----\n",
    "After clustering, generate a statistical summary for each cluster to understand its characteristics. Add the cluster labels to the dataset, then group the data by these labels. Use the `groupby` method along with the `mean` function to calculate the average values of the numeric columns for each cluster. The result is a DataFrame that highlights the key numerical features of every cluster.\n"
   ],
   "id": "44ae65194fb2e4aa"
  },
  {
   "metadata": {
    "ExecuteTime": {
     "end_time": "2025-07-28T10:11:40.834466Z",
     "start_time": "2025-07-28T10:11:40.824058Z"
    }
   },
   "cell_type": "code",
   "source": "print(penguins_pp.columns)",
   "id": "9962f305dd763553",
   "outputs": [
    {
     "name": "stdout",
     "output_type": "stream",
     "text": [
      "Index(['culmen_length_mm', 'culmen_depth_mm', 'flipper_length_mm',\n",
      "       'body_mass_g', 'sex_MALE', 'label'],\n",
      "      dtype='object')\n"
     ]
    }
   ],
   "execution_count": 147
  },
  {
   "metadata": {
    "ExecuteTime": {
     "end_time": "2025-07-28T10:12:16.721734Z",
     "start_time": "2025-07-28T10:12:09.929741Z"
    }
   },
   "cell_type": "code",
   "source": [
    "numeric_columns = ['culmen_length_mm', 'culmen_depth_mm', 'flipper_length_mm','body_mass_g', 'label']\n",
    "stat_penguins = penguins_pp[numeric_columns].groupby('label').mean()\n",
    "stat_penguins"
   ],
   "id": "882c448c0751593b",
   "outputs": [
    {
     "data": {
      "text/plain": [
       "       culmen_length_mm  culmen_depth_mm  flipper_length_mm  body_mass_g\n",
       "label                                                                   \n",
       "0             -0.720906         0.505745          -0.098634    -0.705209\n",
       "1              1.068833        -0.021387          -0.006886     0.873167\n",
       "2              0.288976        -1.474069          -0.007114     0.572169\n",
       "3             -0.284982         1.636230          18.178878     0.053331"
      ],
      "text/html": [
       "<div>\n",
       "<style scoped>\n",
       "    .dataframe tbody tr th:only-of-type {\n",
       "        vertical-align: middle;\n",
       "    }\n",
       "\n",
       "    .dataframe tbody tr th {\n",
       "        vertical-align: top;\n",
       "    }\n",
       "\n",
       "    .dataframe thead th {\n",
       "        text-align: right;\n",
       "    }\n",
       "</style>\n",
       "<table border=\"1\" class=\"dataframe\">\n",
       "  <thead>\n",
       "    <tr style=\"text-align: right;\">\n",
       "      <th></th>\n",
       "      <th>culmen_length_mm</th>\n",
       "      <th>culmen_depth_mm</th>\n",
       "      <th>flipper_length_mm</th>\n",
       "      <th>body_mass_g</th>\n",
       "    </tr>\n",
       "    <tr>\n",
       "      <th>label</th>\n",
       "      <th></th>\n",
       "      <th></th>\n",
       "      <th></th>\n",
       "      <th></th>\n",
       "    </tr>\n",
       "  </thead>\n",
       "  <tbody>\n",
       "    <tr>\n",
       "      <th>0</th>\n",
       "      <td>-0.720906</td>\n",
       "      <td>0.505745</td>\n",
       "      <td>-0.098634</td>\n",
       "      <td>-0.705209</td>\n",
       "    </tr>\n",
       "    <tr>\n",
       "      <th>1</th>\n",
       "      <td>1.068833</td>\n",
       "      <td>-0.021387</td>\n",
       "      <td>-0.006886</td>\n",
       "      <td>0.873167</td>\n",
       "    </tr>\n",
       "    <tr>\n",
       "      <th>2</th>\n",
       "      <td>0.288976</td>\n",
       "      <td>-1.474069</td>\n",
       "      <td>-0.007114</td>\n",
       "      <td>0.572169</td>\n",
       "    </tr>\n",
       "    <tr>\n",
       "      <th>3</th>\n",
       "      <td>-0.284982</td>\n",
       "      <td>1.636230</td>\n",
       "      <td>18.178878</td>\n",
       "      <td>0.053331</td>\n",
       "    </tr>\n",
       "  </tbody>\n",
       "</table>\n",
       "</div>"
      ]
     },
     "execution_count": 148,
     "metadata": {},
     "output_type": "execute_result"
    }
   ],
   "execution_count": 148
  },
  {
   "metadata": {},
   "cell_type": "code",
   "outputs": [],
   "execution_count": null,
   "source": "",
   "id": "d141fa802b1f069a"
  }
 ],
 "metadata": {
  "kernelspec": {
   "display_name": "Python 3",
   "language": "python",
   "name": "python3"
  },
  "language_info": {
   "codemirror_mode": {
    "name": "ipython",
    "version": 2
   },
   "file_extension": ".py",
   "mimetype": "text/x-python",
   "name": "python",
   "nbconvert_exporter": "python",
   "pygments_lexer": "ipython2",
   "version": "2.7.6"
  }
 },
 "nbformat": 4,
 "nbformat_minor": 5
}

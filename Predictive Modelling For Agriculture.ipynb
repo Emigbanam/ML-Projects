{
 "cells": [
  {
   "metadata": {},
   "cell_type": "markdown",
   "source": [
    "Predictive Modelling For Agriculture\n",
    "---\n",
    "\n",
    "Measuring essential soil metrics such as nitrogen, phosphorous, potassium levels, and pH value is an important aspect of assessing soil condition. However, it can be an expensive and time-consuming process, which can cause farmers to prioritize which metrics to measure based on their budget constraints.\n",
    "\n",
    "Farmers have various options when it comes to deciding which crop to plant each season. Their primary objective is to maximize the yield of their crops, taking into account different factors. One crucial factor that affects crop growth is the condition of the soil in the field, which can be assessed by measuring basic elements such as nitrogen and potassium levels. Each crop has an ideal soil condition that ensures optimal growth and maximum yield.\n",
    "\n",
    "A farmer reached out to you as a machine learning expert for assistance in selecting the best crop for his field. They've provided you with a dataset called soil_measures.csv, which contains:\n",
    "\n",
    "\"N\": Nitrogen content ratio in the soil\n",
    "\"P\": Phosphorous content ratio in the soil\n",
    "\"K\": Potassium content ratio in the soil\n",
    "\"pH\" value of the soil\n",
    "\"crop\": categorical values that contain various crops (target variable).\n",
    "Each row in this dataset represents various measures of the soil in a particular field. Based on these measurements, the crop specified in the \"crop\" column is the optimal choice for that field.\n",
    "\n",
    "In this project, you will build multi-class classification models to predict the type of \"crop\" and identify the single most importance feature for predictive performance."
   ],
   "id": "e1a9e7fd6e3f0b72"
  },
  {
   "metadata": {
    "ExecuteTime": {
     "end_time": "2025-07-21T22:30:42.837254Z",
     "start_time": "2025-07-21T22:30:37.894405Z"
    }
   },
   "cell_type": "code",
   "source": [
    "#Loading relevant libraries\n",
    "import numpy as np\n",
    "import pandas as pd\n",
    "from sklearn.linear_model import LogisticRegression\n",
    "from sklearn.model_selection import train_test_split\n",
    "from sklearn import metrics\n",
    "import warnings\n",
    "warnings.filterwarnings('ignore')"
   ],
   "id": "e25629b8a078c9e0",
   "outputs": [],
   "execution_count": 1
  },
  {
   "metadata": {
    "ExecuteTime": {
     "end_time": "2025-07-21T22:30:42.946274Z",
     "start_time": "2025-07-21T22:30:42.858304Z"
    }
   },
   "cell_type": "code",
   "source": [
    "#Loading The Dataset\n",
    "soil = pd.read_csv(\"C:/Users/Emigb/Documents/Data Science/datasets/soil_measures.csv\")\n",
    "soil.head()"
   ],
   "id": "a890e82abe15f069",
   "outputs": [
    {
     "data": {
      "text/plain": [
       "    N   P   K        ph  crop\n",
       "0  90  42  43  6.502985  rice\n",
       "1  85  58  41  7.038096  rice\n",
       "2  60  55  44  7.840207  rice\n",
       "3  74  35  40  6.980401  rice\n",
       "4  78  42  42  7.628473  rice"
      ],
      "text/html": [
       "<div>\n",
       "<style scoped>\n",
       "    .dataframe tbody tr th:only-of-type {\n",
       "        vertical-align: middle;\n",
       "    }\n",
       "\n",
       "    .dataframe tbody tr th {\n",
       "        vertical-align: top;\n",
       "    }\n",
       "\n",
       "    .dataframe thead th {\n",
       "        text-align: right;\n",
       "    }\n",
       "</style>\n",
       "<table border=\"1\" class=\"dataframe\">\n",
       "  <thead>\n",
       "    <tr style=\"text-align: right;\">\n",
       "      <th></th>\n",
       "      <th>N</th>\n",
       "      <th>P</th>\n",
       "      <th>K</th>\n",
       "      <th>ph</th>\n",
       "      <th>crop</th>\n",
       "    </tr>\n",
       "  </thead>\n",
       "  <tbody>\n",
       "    <tr>\n",
       "      <th>0</th>\n",
       "      <td>90</td>\n",
       "      <td>42</td>\n",
       "      <td>43</td>\n",
       "      <td>6.502985</td>\n",
       "      <td>rice</td>\n",
       "    </tr>\n",
       "    <tr>\n",
       "      <th>1</th>\n",
       "      <td>85</td>\n",
       "      <td>58</td>\n",
       "      <td>41</td>\n",
       "      <td>7.038096</td>\n",
       "      <td>rice</td>\n",
       "    </tr>\n",
       "    <tr>\n",
       "      <th>2</th>\n",
       "      <td>60</td>\n",
       "      <td>55</td>\n",
       "      <td>44</td>\n",
       "      <td>7.840207</td>\n",
       "      <td>rice</td>\n",
       "    </tr>\n",
       "    <tr>\n",
       "      <th>3</th>\n",
       "      <td>74</td>\n",
       "      <td>35</td>\n",
       "      <td>40</td>\n",
       "      <td>6.980401</td>\n",
       "      <td>rice</td>\n",
       "    </tr>\n",
       "    <tr>\n",
       "      <th>4</th>\n",
       "      <td>78</td>\n",
       "      <td>42</td>\n",
       "      <td>42</td>\n",
       "      <td>7.628473</td>\n",
       "      <td>rice</td>\n",
       "    </tr>\n",
       "  </tbody>\n",
       "</table>\n",
       "</div>"
      ]
     },
     "execution_count": 2,
     "metadata": {},
     "output_type": "execute_result"
    }
   ],
   "execution_count": 2
  },
  {
   "metadata": {
    "ExecuteTime": {
     "end_time": "2025-07-21T22:30:43.087199Z",
     "start_time": "2025-07-21T22:30:43.072181Z"
    }
   },
   "cell_type": "code",
   "source": [
    "#Checking For Missing Values\n",
    "soil.isna().sum()"
   ],
   "id": "258b8e1d7b354cef",
   "outputs": [
    {
     "data": {
      "text/plain": [
       "N       0\n",
       "P       0\n",
       "K       0\n",
       "ph      0\n",
       "crop    0\n",
       "dtype: int64"
      ]
     },
     "execution_count": 3,
     "metadata": {},
     "output_type": "execute_result"
    }
   ],
   "execution_count": 3
  },
  {
   "metadata": {
    "ExecuteTime": {
     "end_time": "2025-07-21T22:30:43.165308Z",
     "start_time": "2025-07-21T22:30:43.142045Z"
    }
   },
   "cell_type": "code",
   "source": [
    "#Checking Data types\n",
    "soil.info()"
   ],
   "id": "3cde4385e493c0df",
   "outputs": [
    {
     "name": "stdout",
     "output_type": "stream",
     "text": [
      "<class 'pandas.core.frame.DataFrame'>\n",
      "RangeIndex: 2200 entries, 0 to 2199\n",
      "Data columns (total 5 columns):\n",
      " #   Column  Non-Null Count  Dtype  \n",
      "---  ------  --------------  -----  \n",
      " 0   N       2200 non-null   int64  \n",
      " 1   P       2200 non-null   int64  \n",
      " 2   K       2200 non-null   int64  \n",
      " 3   ph      2200 non-null   float64\n",
      " 4   crop    2200 non-null   object \n",
      "dtypes: float64(1), int64(3), object(1)\n",
      "memory usage: 86.1+ KB\n"
     ]
    }
   ],
   "execution_count": 4
  },
  {
   "metadata": {},
   "cell_type": "markdown",
   "source": [
    "Spitting The Data\n",
    "----"
   ],
   "id": "79641c01e2600bf6"
  },
  {
   "metadata": {
    "ExecuteTime": {
     "end_time": "2025-07-21T22:30:43.221958Z",
     "start_time": "2025-07-21T22:30:43.202539Z"
    }
   },
   "cell_type": "code",
   "source": [
    "#Features and target variables\n",
    "X = soil.drop('crop', axis=1)\n",
    "y = soil['crop'].values\n",
    "\n",
    "#Splitting the data\n",
    "X_train, X_test, y_train, y_test = train_test_split(X, y, test_size=0.3,\n",
    "                                                    random_state = 42, stratify=y)"
   ],
   "id": "98258196bf96ab47",
   "outputs": [],
   "execution_count": 5
  },
  {
   "metadata": {},
   "cell_type": "markdown",
   "source": [
    "Evaluating Performance\n",
    "----"
   ],
   "id": "39ac0f065d96f9fa"
  },
  {
   "metadata": {
    "ExecuteTime": {
     "end_time": "2025-07-21T22:30:50.428446Z",
     "start_time": "2025-07-21T22:30:43.269464Z"
    }
   },
   "cell_type": "code",
   "source": [
    "features_dict = {}\n",
    "for feature in ['N','P','K','ph']:\n",
    "    logreg = LogisticRegression(multi_class='multinomial', max_iter=1000)\n",
    "    logreg.fit(X_train[[feature]],y_train)\n",
    "    y_pred = logreg.predict(X_test[[feature]])\n",
    "    performance = metrics.f1_score(y_test, y_pred, average = 'weighted')\n",
    "    features_dict[feature] = performance\n",
    "    print(f'F1_Score for {feature}:{performance}')"
   ],
   "id": "f55528ae33d88d8d",
   "outputs": [
    {
     "name": "stdout",
     "output_type": "stream",
     "text": [
      "F1_Score for N:0.11670809659819\n",
      "F1_Score for P:0.16475107782497828\n",
      "F1_Score for K:0.20649633899821448\n",
      "F1_Score for ph:0.07857333464032784\n"
     ]
    }
   ],
   "execution_count": 6
  },
  {
   "metadata": {},
   "cell_type": "markdown",
   "source": [
    "Creating the best predictive feature variable\n",
    "----"
   ],
   "id": "9f90271294195204"
  },
  {
   "metadata": {
    "ExecuteTime": {
     "end_time": "2025-07-21T22:30:50.453807Z",
     "start_time": "2025-07-21T22:30:50.444828Z"
    }
   },
   "cell_type": "code",
   "source": [
    "best_feature = max(features_dict, key=features_dict.get)\n",
    "best_predictive_feature = {best_feature: features_dict[best_feature]}\n",
    "print(\"Best Predictive Feature:\", best_predictive_feature)"
   ],
   "id": "371cec8cc07a6808",
   "outputs": [
    {
     "name": "stdout",
     "output_type": "stream",
     "text": [
      "Best Predictive Feature: {'K': 0.20649633899821448}\n"
     ]
    }
   ],
   "execution_count": 7
  },
  {
   "metadata": {
    "ExecuteTime": {
     "end_time": "2025-07-21T22:30:50.475208Z",
     "start_time": "2025-07-21T22:30:50.469646Z"
    }
   },
   "cell_type": "code",
   "source": "",
   "id": "755e6fdd92a5b37f",
   "outputs": [],
   "execution_count": null
  }
 ],
 "metadata": {},
 "nbformat": 4,
 "nbformat_minor": 5
}
